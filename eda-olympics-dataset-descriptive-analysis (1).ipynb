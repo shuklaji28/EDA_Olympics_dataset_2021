{
 "cells": [
  {
   "cell_type": "code",
   "execution_count": 1,
   "id": "5639f164",
   "metadata": {
    "_cell_guid": "b1076dfc-b9ad-4769-8c92-a6c4dae69d19",
    "_uuid": "8f2839f25d086af736a60e9eeb907d3b93b6e0e5",
    "execution": {
     "iopub.execute_input": "2021-08-08T11:41:20.161299Z",
     "iopub.status.busy": "2021-08-08T11:41:20.160169Z",
     "iopub.status.idle": "2021-08-08T11:41:20.179722Z",
     "shell.execute_reply": "2021-08-08T11:41:20.180227Z",
     "shell.execute_reply.started": "2021-08-08T10:42:51.638677Z"
    },
    "papermill": {
     "duration": 0.049186,
     "end_time": "2021-08-08T11:41:20.180529",
     "exception": false,
     "start_time": "2021-08-08T11:41:20.131343",
     "status": "completed"
    },
    "tags": []
   },
   "outputs": [
    {
     "name": "stdout",
     "output_type": "stream",
     "text": [
      "../input/2021-olympics-medals-in-tokyo/Tokyo Medals 2021.csv\n"
     ]
    }
   ],
   "source": [
    "# This Python 3 environment comes with many helpful analytics libraries installed\n",
    "# It is defined by the kaggle/python Docker image: https://github.com/kaggle/docker-python\n",
    "# For example, here's several helpful packages to load\n",
    "\n",
    "import numpy as np # linear algebra\n",
    "import pandas as pd # data processing, CSV file I/O (e.g. pd.read_csv)\n",
    "\n",
    "# Input data files are available in the read-only \"../input/\" directory\n",
    "# For example, running this (by clicking run or pressing Shift+Enter) will list all files under the input directory\n",
    "\n",
    "import os\n",
    "for dirname, _, filenames in os.walk('../input/2021-olympics-medals-in-tokyo'):\n",
    "    for filename in filenames:\n",
    "        print(os.path.join(dirname, filename))\n",
    "\n",
    "# You can write up to 20GB to the current directory (/kaggle/working/) that gets preserved as output when you create a version using \"Save & Run All\" \n",
    "# You can also write temporary files to /kaggle/temp/, but they won't be saved outside of the current session"
   ]
  },
  {
   "cell_type": "markdown",
   "id": "f7670bf8",
   "metadata": {
    "papermill": {
     "duration": 0.025917,
     "end_time": "2021-08-08T11:41:20.230547",
     "exception": false,
     "start_time": "2021-08-08T11:41:20.204630",
     "status": "completed"
    },
    "tags": []
   },
   "source": [
    "Importing Dataset and Important Libraries to work with. "
   ]
  },
  {
   "cell_type": "markdown",
   "id": "05199c0f",
   "metadata": {
    "papermill": {
     "duration": 0.024082,
     "end_time": "2021-08-08T11:41:20.278392",
     "exception": false,
     "start_time": "2021-08-08T11:41:20.254310",
     "status": "completed"
    },
    "tags": []
   },
   "source": [
    "I welcome you all in this short and interesting EDA of olympics dataset. I will make sure that it do not waste your time. Read this till end and after reading the last line do provide me feedback or suggestions to improve myself. **Lets Start !** "
   ]
  },
  {
   "cell_type": "code",
   "execution_count": 2,
   "id": "ee47e4af",
   "metadata": {
    "execution": {
     "iopub.execute_input": "2021-08-08T11:41:20.330455Z",
     "iopub.status.busy": "2021-08-08T11:41:20.329769Z",
     "iopub.status.idle": "2021-08-08T11:41:21.397161Z",
     "shell.execute_reply": "2021-08-08T11:41:21.396482Z",
     "shell.execute_reply.started": "2021-08-08T10:42:51.651768Z"
    },
    "papermill": {
     "duration": 1.096142,
     "end_time": "2021-08-08T11:41:21.397302",
     "exception": false,
     "start_time": "2021-08-08T11:41:20.301160",
     "status": "completed"
    },
    "tags": []
   },
   "outputs": [],
   "source": [
    "import matplotlib.pyplot as plt\n",
    "import seaborn as sns\n",
    "%matplotlib inline"
   ]
  },
  {
   "cell_type": "code",
   "execution_count": 3,
   "id": "26193ace",
   "metadata": {
    "execution": {
     "iopub.execute_input": "2021-08-08T11:41:21.452777Z",
     "iopub.status.busy": "2021-08-08T11:41:21.452161Z",
     "iopub.status.idle": "2021-08-08T11:41:21.464648Z",
     "shell.execute_reply": "2021-08-08T11:41:21.464034Z",
     "shell.execute_reply.started": "2021-08-08T10:42:51.661026Z"
    },
    "papermill": {
     "duration": 0.041495,
     "end_time": "2021-08-08T11:41:21.464787",
     "exception": false,
     "start_time": "2021-08-08T11:41:21.423292",
     "status": "completed"
    },
    "tags": []
   },
   "outputs": [],
   "source": [
    "df= pd.read_csv(\"../input/2021-olympics-medals-in-tokyo/Tokyo Medals 2021.csv\")"
   ]
  },
  {
   "cell_type": "markdown",
   "id": "d120a123",
   "metadata": {
    "papermill": {
     "duration": 0.023434,
     "end_time": "2021-08-08T11:41:21.512224",
     "exception": false,
     "start_time": "2021-08-08T11:41:21.488790",
     "status": "completed"
    },
    "tags": []
   },
   "source": [
    "# **Data Exploration**"
   ]
  },
  {
   "cell_type": "markdown",
   "id": "26d45fe5",
   "metadata": {
    "papermill": {
     "duration": 0.024874,
     "end_time": "2021-08-08T11:41:21.560534",
     "exception": false,
     "start_time": "2021-08-08T11:41:21.535660",
     "status": "completed"
    },
    "tags": []
   },
   "source": [
    "Lets Explore our dataset and see some interesting insights from the data.\n",
    "And **Congratulations** if your country has won medals. :) "
   ]
  },
  {
   "cell_type": "code",
   "execution_count": 4,
   "id": "dce79ecf",
   "metadata": {
    "execution": {
     "iopub.execute_input": "2021-08-08T11:41:21.612371Z",
     "iopub.status.busy": "2021-08-08T11:41:21.611586Z",
     "iopub.status.idle": "2021-08-08T11:41:21.615401Z",
     "shell.execute_reply": "2021-08-08T11:41:21.615808Z",
     "shell.execute_reply.started": "2021-08-08T10:42:51.683681Z"
    },
    "papermill": {
     "duration": 0.032482,
     "end_time": "2021-08-08T11:41:21.615994",
     "exception": false,
     "start_time": "2021-08-08T11:41:21.583512",
     "status": "completed"
    },
    "tags": []
   },
   "outputs": [
    {
     "name": "stdout",
     "output_type": "stream",
     "text": [
      "Index(['Country', 'Gold Medal', 'Silver Medal', 'Bronze Medal', 'Total',\n",
      "       'Rank By Total'],\n",
      "      dtype='object')\n",
      "Total Columns :  6\n"
     ]
    }
   ],
   "source": [
    "l=df.columns\n",
    "print(l)\n",
    "print(\"Total Columns : \", len(l))"
   ]
  },
  {
   "cell_type": "code",
   "execution_count": 5,
   "id": "630fb22e",
   "metadata": {
    "execution": {
     "iopub.execute_input": "2021-08-08T11:41:21.673773Z",
     "iopub.status.busy": "2021-08-08T11:41:21.673150Z",
     "iopub.status.idle": "2021-08-08T11:41:21.691347Z",
     "shell.execute_reply": "2021-08-08T11:41:21.691752Z",
     "shell.execute_reply.started": "2021-08-08T10:42:51.709395Z"
    },
    "papermill": {
     "duration": 0.05272,
     "end_time": "2021-08-08T11:41:21.691921",
     "exception": false,
     "start_time": "2021-08-08T11:41:21.639201",
     "status": "completed"
    },
    "tags": []
   },
   "outputs": [
    {
     "data": {
      "text/html": [
       "<div>\n",
       "<style scoped>\n",
       "    .dataframe tbody tr th:only-of-type {\n",
       "        vertical-align: middle;\n",
       "    }\n",
       "\n",
       "    .dataframe tbody tr th {\n",
       "        vertical-align: top;\n",
       "    }\n",
       "\n",
       "    .dataframe thead th {\n",
       "        text-align: right;\n",
       "    }\n",
       "</style>\n",
       "<table border=\"1\" class=\"dataframe\">\n",
       "  <thead>\n",
       "    <tr style=\"text-align: right;\">\n",
       "      <th></th>\n",
       "      <th>Country</th>\n",
       "      <th>Gold Medal</th>\n",
       "      <th>Silver Medal</th>\n",
       "      <th>Bronze Medal</th>\n",
       "      <th>Total</th>\n",
       "      <th>Rank By Total</th>\n",
       "    </tr>\n",
       "  </thead>\n",
       "  <tbody>\n",
       "    <tr>\n",
       "      <th>0</th>\n",
       "      <td>United States of America</td>\n",
       "      <td>38</td>\n",
       "      <td>39</td>\n",
       "      <td>33</td>\n",
       "      <td>110</td>\n",
       "      <td>1</td>\n",
       "    </tr>\n",
       "    <tr>\n",
       "      <th>1</th>\n",
       "      <td>People's Republic of China</td>\n",
       "      <td>38</td>\n",
       "      <td>31</td>\n",
       "      <td>18</td>\n",
       "      <td>87</td>\n",
       "      <td>2</td>\n",
       "    </tr>\n",
       "    <tr>\n",
       "      <th>2</th>\n",
       "      <td>Japan</td>\n",
       "      <td>27</td>\n",
       "      <td>14</td>\n",
       "      <td>17</td>\n",
       "      <td>58</td>\n",
       "      <td>5</td>\n",
       "    </tr>\n",
       "    <tr>\n",
       "      <th>3</th>\n",
       "      <td>Great Britain</td>\n",
       "      <td>21</td>\n",
       "      <td>21</td>\n",
       "      <td>22</td>\n",
       "      <td>64</td>\n",
       "      <td>4</td>\n",
       "    </tr>\n",
       "    <tr>\n",
       "      <th>4</th>\n",
       "      <td>ROC</td>\n",
       "      <td>20</td>\n",
       "      <td>27</td>\n",
       "      <td>23</td>\n",
       "      <td>70</td>\n",
       "      <td>3</td>\n",
       "    </tr>\n",
       "    <tr>\n",
       "      <th>5</th>\n",
       "      <td>Australia</td>\n",
       "      <td>17</td>\n",
       "      <td>7</td>\n",
       "      <td>22</td>\n",
       "      <td>46</td>\n",
       "      <td>6</td>\n",
       "    </tr>\n",
       "    <tr>\n",
       "      <th>6</th>\n",
       "      <td>Netherlands</td>\n",
       "      <td>10</td>\n",
       "      <td>12</td>\n",
       "      <td>14</td>\n",
       "      <td>36</td>\n",
       "      <td>9</td>\n",
       "    </tr>\n",
       "    <tr>\n",
       "      <th>7</th>\n",
       "      <td>Germany</td>\n",
       "      <td>10</td>\n",
       "      <td>11</td>\n",
       "      <td>16</td>\n",
       "      <td>37</td>\n",
       "      <td>8</td>\n",
       "    </tr>\n",
       "    <tr>\n",
       "      <th>8</th>\n",
       "      <td>Italy</td>\n",
       "      <td>10</td>\n",
       "      <td>10</td>\n",
       "      <td>20</td>\n",
       "      <td>40</td>\n",
       "      <td>7</td>\n",
       "    </tr>\n",
       "    <tr>\n",
       "      <th>9</th>\n",
       "      <td>France</td>\n",
       "      <td>9</td>\n",
       "      <td>12</td>\n",
       "      <td>11</td>\n",
       "      <td>32</td>\n",
       "      <td>10</td>\n",
       "    </tr>\n",
       "  </tbody>\n",
       "</table>\n",
       "</div>"
      ],
      "text/plain": [
       "                      Country  Gold Medal  Silver Medal  Bronze Medal  Total  \\\n",
       "0    United States of America          38            39            33    110   \n",
       "1  People's Republic of China          38            31            18     87   \n",
       "2                       Japan          27            14            17     58   \n",
       "3               Great Britain          21            21            22     64   \n",
       "4                         ROC          20            27            23     70   \n",
       "5                   Australia          17             7            22     46   \n",
       "6                 Netherlands          10            12            14     36   \n",
       "7                     Germany          10            11            16     37   \n",
       "8                       Italy          10            10            20     40   \n",
       "9                      France           9            12            11     32   \n",
       "\n",
       "   Rank By Total  \n",
       "0              1  \n",
       "1              2  \n",
       "2              5  \n",
       "3              4  \n",
       "4              3  \n",
       "5              6  \n",
       "6              9  \n",
       "7              8  \n",
       "8              7  \n",
       "9             10  "
      ]
     },
     "execution_count": 5,
     "metadata": {},
     "output_type": "execute_result"
    }
   ],
   "source": [
    "df.head(10)"
   ]
  },
  {
   "cell_type": "code",
   "execution_count": 6,
   "id": "25c5934d",
   "metadata": {
    "execution": {
     "iopub.execute_input": "2021-08-08T11:41:21.744338Z",
     "iopub.status.busy": "2021-08-08T11:41:21.743680Z",
     "iopub.status.idle": "2021-08-08T11:41:21.755146Z",
     "shell.execute_reply": "2021-08-08T11:41:21.755625Z",
     "shell.execute_reply.started": "2021-08-08T10:42:51.740964Z"
    },
    "papermill": {
     "duration": 0.03978,
     "end_time": "2021-08-08T11:41:21.755814",
     "exception": false,
     "start_time": "2021-08-08T11:41:21.716034",
     "status": "completed"
    },
    "tags": []
   },
   "outputs": [
    {
     "data": {
      "text/html": [
       "<div>\n",
       "<style scoped>\n",
       "    .dataframe tbody tr th:only-of-type {\n",
       "        vertical-align: middle;\n",
       "    }\n",
       "\n",
       "    .dataframe tbody tr th {\n",
       "        vertical-align: top;\n",
       "    }\n",
       "\n",
       "    .dataframe thead th {\n",
       "        text-align: right;\n",
       "    }\n",
       "</style>\n",
       "<table border=\"1\" class=\"dataframe\">\n",
       "  <thead>\n",
       "    <tr style=\"text-align: right;\">\n",
       "      <th></th>\n",
       "      <th>Country</th>\n",
       "      <th>Gold Medal</th>\n",
       "      <th>Silver Medal</th>\n",
       "      <th>Bronze Medal</th>\n",
       "      <th>Total</th>\n",
       "      <th>Rank By Total</th>\n",
       "    </tr>\n",
       "  </thead>\n",
       "  <tbody>\n",
       "    <tr>\n",
       "      <th>83</th>\n",
       "      <td>Mexico</td>\n",
       "      <td>0</td>\n",
       "      <td>0</td>\n",
       "      <td>4</td>\n",
       "      <td>4</td>\n",
       "      <td>46</td>\n",
       "    </tr>\n",
       "    <tr>\n",
       "      <th>84</th>\n",
       "      <td>Finland</td>\n",
       "      <td>0</td>\n",
       "      <td>0</td>\n",
       "      <td>2</td>\n",
       "      <td>2</td>\n",
       "      <td>66</td>\n",
       "    </tr>\n",
       "    <tr>\n",
       "      <th>85</th>\n",
       "      <td>Botswana</td>\n",
       "      <td>0</td>\n",
       "      <td>0</td>\n",
       "      <td>1</td>\n",
       "      <td>1</td>\n",
       "      <td>77</td>\n",
       "    </tr>\n",
       "    <tr>\n",
       "      <th>86</th>\n",
       "      <td>Burkina Faso</td>\n",
       "      <td>0</td>\n",
       "      <td>0</td>\n",
       "      <td>1</td>\n",
       "      <td>1</td>\n",
       "      <td>77</td>\n",
       "    </tr>\n",
       "    <tr>\n",
       "      <th>87</th>\n",
       "      <td>Côte d'Ivoire</td>\n",
       "      <td>0</td>\n",
       "      <td>0</td>\n",
       "      <td>1</td>\n",
       "      <td>1</td>\n",
       "      <td>77</td>\n",
       "    </tr>\n",
       "    <tr>\n",
       "      <th>88</th>\n",
       "      <td>Ghana</td>\n",
       "      <td>0</td>\n",
       "      <td>0</td>\n",
       "      <td>1</td>\n",
       "      <td>1</td>\n",
       "      <td>77</td>\n",
       "    </tr>\n",
       "    <tr>\n",
       "      <th>89</th>\n",
       "      <td>Grenada</td>\n",
       "      <td>0</td>\n",
       "      <td>0</td>\n",
       "      <td>1</td>\n",
       "      <td>1</td>\n",
       "      <td>77</td>\n",
       "    </tr>\n",
       "    <tr>\n",
       "      <th>90</th>\n",
       "      <td>Kuwait</td>\n",
       "      <td>0</td>\n",
       "      <td>0</td>\n",
       "      <td>1</td>\n",
       "      <td>1</td>\n",
       "      <td>77</td>\n",
       "    </tr>\n",
       "    <tr>\n",
       "      <th>91</th>\n",
       "      <td>Republic of Moldova</td>\n",
       "      <td>0</td>\n",
       "      <td>0</td>\n",
       "      <td>1</td>\n",
       "      <td>1</td>\n",
       "      <td>77</td>\n",
       "    </tr>\n",
       "    <tr>\n",
       "      <th>92</th>\n",
       "      <td>Syrian Arab Republic</td>\n",
       "      <td>0</td>\n",
       "      <td>0</td>\n",
       "      <td>1</td>\n",
       "      <td>1</td>\n",
       "      <td>77</td>\n",
       "    </tr>\n",
       "  </tbody>\n",
       "</table>\n",
       "</div>"
      ],
      "text/plain": [
       "                 Country  Gold Medal  Silver Medal  Bronze Medal  Total  \\\n",
       "83                Mexico           0             0             4      4   \n",
       "84               Finland           0             0             2      2   \n",
       "85              Botswana           0             0             1      1   \n",
       "86          Burkina Faso           0             0             1      1   \n",
       "87         Côte d'Ivoire           0             0             1      1   \n",
       "88                 Ghana           0             0             1      1   \n",
       "89               Grenada           0             0             1      1   \n",
       "90                Kuwait           0             0             1      1   \n",
       "91   Republic of Moldova           0             0             1      1   \n",
       "92  Syrian Arab Republic           0             0             1      1   \n",
       "\n",
       "    Rank By Total  \n",
       "83             46  \n",
       "84             66  \n",
       "85             77  \n",
       "86             77  \n",
       "87             77  \n",
       "88             77  \n",
       "89             77  \n",
       "90             77  \n",
       "91             77  \n",
       "92             77  "
      ]
     },
     "execution_count": 6,
     "metadata": {},
     "output_type": "execute_result"
    }
   ],
   "source": [
    "df.tail(10)"
   ]
  },
  {
   "cell_type": "code",
   "execution_count": 7,
   "id": "08bc84db",
   "metadata": {
    "execution": {
     "iopub.execute_input": "2021-08-08T11:41:21.812168Z",
     "iopub.status.busy": "2021-08-08T11:41:21.811160Z",
     "iopub.status.idle": "2021-08-08T11:41:21.823584Z",
     "shell.execute_reply": "2021-08-08T11:41:21.823076Z",
     "shell.execute_reply.started": "2021-08-08T11:25:48.021214Z"
    },
    "papermill": {
     "duration": 0.042577,
     "end_time": "2021-08-08T11:41:21.823731",
     "exception": false,
     "start_time": "2021-08-08T11:41:21.781154",
     "status": "completed"
    },
    "tags": []
   },
   "outputs": [
    {
     "data": {
      "text/html": [
       "<div>\n",
       "<style scoped>\n",
       "    .dataframe tbody tr th:only-of-type {\n",
       "        vertical-align: middle;\n",
       "    }\n",
       "\n",
       "    .dataframe tbody tr th {\n",
       "        vertical-align: top;\n",
       "    }\n",
       "\n",
       "    .dataframe thead th {\n",
       "        text-align: right;\n",
       "    }\n",
       "</style>\n",
       "<table border=\"1\" class=\"dataframe\">\n",
       "  <thead>\n",
       "    <tr style=\"text-align: right;\">\n",
       "      <th></th>\n",
       "      <th>Country</th>\n",
       "      <th>Gold Medal</th>\n",
       "      <th>Silver Medal</th>\n",
       "      <th>Bronze Medal</th>\n",
       "      <th>Total</th>\n",
       "      <th>Rank By Total</th>\n",
       "    </tr>\n",
       "  </thead>\n",
       "  <tbody>\n",
       "    <tr>\n",
       "      <th>40</th>\n",
       "      <td>Bahamas</td>\n",
       "      <td>2</td>\n",
       "      <td>0</td>\n",
       "      <td>0</td>\n",
       "      <td>2</td>\n",
       "      <td>66</td>\n",
       "    </tr>\n",
       "    <tr>\n",
       "      <th>41</th>\n",
       "      <td>Kosovo</td>\n",
       "      <td>2</td>\n",
       "      <td>0</td>\n",
       "      <td>0</td>\n",
       "      <td>2</td>\n",
       "      <td>66</td>\n",
       "    </tr>\n",
       "    <tr>\n",
       "      <th>42</th>\n",
       "      <td>Ukraine</td>\n",
       "      <td>1</td>\n",
       "      <td>6</td>\n",
       "      <td>12</td>\n",
       "      <td>19</td>\n",
       "      <td>14</td>\n",
       "    </tr>\n",
       "    <tr>\n",
       "      <th>43</th>\n",
       "      <td>Belarus</td>\n",
       "      <td>1</td>\n",
       "      <td>3</td>\n",
       "      <td>3</td>\n",
       "      <td>7</td>\n",
       "      <td>33</td>\n",
       "    </tr>\n",
       "    <tr>\n",
       "      <th>44</th>\n",
       "      <td>Romania</td>\n",
       "      <td>1</td>\n",
       "      <td>3</td>\n",
       "      <td>0</td>\n",
       "      <td>4</td>\n",
       "      <td>46</td>\n",
       "    </tr>\n",
       "    <tr>\n",
       "      <th>45</th>\n",
       "      <td>Venezuela</td>\n",
       "      <td>1</td>\n",
       "      <td>3</td>\n",
       "      <td>0</td>\n",
       "      <td>4</td>\n",
       "      <td>46</td>\n",
       "    </tr>\n",
       "    <tr>\n",
       "      <th>46</th>\n",
       "      <td>India</td>\n",
       "      <td>1</td>\n",
       "      <td>2</td>\n",
       "      <td>4</td>\n",
       "      <td>7</td>\n",
       "      <td>33</td>\n",
       "    </tr>\n",
       "    <tr>\n",
       "      <th>47</th>\n",
       "      <td>Hong Kong, China</td>\n",
       "      <td>1</td>\n",
       "      <td>2</td>\n",
       "      <td>3</td>\n",
       "      <td>6</td>\n",
       "      <td>39</td>\n",
       "    </tr>\n",
       "    <tr>\n",
       "      <th>48</th>\n",
       "      <td>Philippines</td>\n",
       "      <td>1</td>\n",
       "      <td>2</td>\n",
       "      <td>1</td>\n",
       "      <td>4</td>\n",
       "      <td>46</td>\n",
       "    </tr>\n",
       "    <tr>\n",
       "      <th>49</th>\n",
       "      <td>Slovakia</td>\n",
       "      <td>1</td>\n",
       "      <td>2</td>\n",
       "      <td>1</td>\n",
       "      <td>4</td>\n",
       "      <td>46</td>\n",
       "    </tr>\n",
       "  </tbody>\n",
       "</table>\n",
       "</div>"
      ],
      "text/plain": [
       "             Country  Gold Medal  Silver Medal  Bronze Medal  Total  \\\n",
       "40           Bahamas           2             0             0      2   \n",
       "41            Kosovo           2             0             0      2   \n",
       "42           Ukraine           1             6            12     19   \n",
       "43           Belarus           1             3             3      7   \n",
       "44           Romania           1             3             0      4   \n",
       "45         Venezuela           1             3             0      4   \n",
       "46             India           1             2             4      7   \n",
       "47  Hong Kong, China           1             2             3      6   \n",
       "48       Philippines           1             2             1      4   \n",
       "49          Slovakia           1             2             1      4   \n",
       "\n",
       "    Rank By Total  \n",
       "40             66  \n",
       "41             66  \n",
       "42             14  \n",
       "43             33  \n",
       "44             46  \n",
       "45             46  \n",
       "46             33  \n",
       "47             39  \n",
       "48             46  \n",
       "49             46  "
      ]
     },
     "execution_count": 7,
     "metadata": {},
     "output_type": "execute_result"
    }
   ],
   "source": [
    "# Viewing my Country in between bcz I already know its index. \n",
    "# Later I will do it using Code in below :)\n",
    "df[40:50]"
   ]
  },
  {
   "cell_type": "code",
   "execution_count": 8,
   "id": "371f02b3",
   "metadata": {
    "execution": {
     "iopub.execute_input": "2021-08-08T11:41:21.883106Z",
     "iopub.status.busy": "2021-08-08T11:41:21.882450Z",
     "iopub.status.idle": "2021-08-08T11:41:21.886764Z",
     "shell.execute_reply": "2021-08-08T11:41:21.886310Z",
     "shell.execute_reply.started": "2021-08-08T10:42:51.784147Z"
    },
    "papermill": {
     "duration": 0.035696,
     "end_time": "2021-08-08T11:41:21.886902",
     "exception": false,
     "start_time": "2021-08-08T11:41:21.851206",
     "status": "completed"
    },
    "tags": []
   },
   "outputs": [
    {
     "name": "stdout",
     "output_type": "stream",
     "text": [
      "Total number of rows :  93\n",
      "Total number of columns :  6\n",
      "Total cells in Dataset :  558\n"
     ]
    }
   ],
   "source": [
    "rows = df.shape[0]\n",
    "cols = df.shape[1]\n",
    "print(\"Total number of rows : \", rows)\n",
    "print(\"Total number of columns : \", cols)\n",
    "print(\"Total cells in Dataset : \", rows*cols)\n"
   ]
  },
  {
   "cell_type": "code",
   "execution_count": 9,
   "id": "180b4193",
   "metadata": {
    "execution": {
     "iopub.execute_input": "2021-08-08T11:41:21.950554Z",
     "iopub.status.busy": "2021-08-08T11:41:21.942385Z",
     "iopub.status.idle": "2021-08-08T11:41:21.981026Z",
     "shell.execute_reply": "2021-08-08T11:41:21.981796Z",
     "shell.execute_reply.started": "2021-08-08T10:42:51.811728Z"
    },
    "papermill": {
     "duration": 0.068822,
     "end_time": "2021-08-08T11:41:21.982033",
     "exception": false,
     "start_time": "2021-08-08T11:41:21.913211",
     "status": "completed"
    },
    "tags": []
   },
   "outputs": [
    {
     "data": {
      "text/html": [
       "<div>\n",
       "<style scoped>\n",
       "    .dataframe tbody tr th:only-of-type {\n",
       "        vertical-align: middle;\n",
       "    }\n",
       "\n",
       "    .dataframe tbody tr th {\n",
       "        vertical-align: top;\n",
       "    }\n",
       "\n",
       "    .dataframe thead th {\n",
       "        text-align: right;\n",
       "    }\n",
       "</style>\n",
       "<table border=\"1\" class=\"dataframe\">\n",
       "  <thead>\n",
       "    <tr style=\"text-align: right;\">\n",
       "      <th></th>\n",
       "      <th>Gold Medal</th>\n",
       "      <th>Silver Medal</th>\n",
       "      <th>Bronze Medal</th>\n",
       "      <th>Total</th>\n",
       "      <th>Rank By Total</th>\n",
       "    </tr>\n",
       "  </thead>\n",
       "  <tbody>\n",
       "    <tr>\n",
       "      <th>count</th>\n",
       "      <td>93.000000</td>\n",
       "      <td>93.000000</td>\n",
       "      <td>93.000000</td>\n",
       "      <td>93.000000</td>\n",
       "      <td>93.000000</td>\n",
       "    </tr>\n",
       "    <tr>\n",
       "      <th>mean</th>\n",
       "      <td>3.580645</td>\n",
       "      <td>3.559140</td>\n",
       "      <td>4.311828</td>\n",
       "      <td>11.451613</td>\n",
       "      <td>43.483871</td>\n",
       "    </tr>\n",
       "    <tr>\n",
       "      <th>std</th>\n",
       "      <td>6.933414</td>\n",
       "      <td>6.419167</td>\n",
       "      <td>6.206551</td>\n",
       "      <td>18.798425</td>\n",
       "      <td>24.199179</td>\n",
       "    </tr>\n",
       "    <tr>\n",
       "      <th>min</th>\n",
       "      <td>0.000000</td>\n",
       "      <td>0.000000</td>\n",
       "      <td>0.000000</td>\n",
       "      <td>1.000000</td>\n",
       "      <td>1.000000</td>\n",
       "    </tr>\n",
       "    <tr>\n",
       "      <th>25%</th>\n",
       "      <td>0.000000</td>\n",
       "      <td>0.000000</td>\n",
       "      <td>1.000000</td>\n",
       "      <td>2.000000</td>\n",
       "      <td>23.000000</td>\n",
       "    </tr>\n",
       "    <tr>\n",
       "      <th>50%</th>\n",
       "      <td>1.000000</td>\n",
       "      <td>1.000000</td>\n",
       "      <td>2.000000</td>\n",
       "      <td>4.000000</td>\n",
       "      <td>46.000000</td>\n",
       "    </tr>\n",
       "    <tr>\n",
       "      <th>75%</th>\n",
       "      <td>3.000000</td>\n",
       "      <td>4.000000</td>\n",
       "      <td>5.000000</td>\n",
       "      <td>11.000000</td>\n",
       "      <td>66.000000</td>\n",
       "    </tr>\n",
       "    <tr>\n",
       "      <th>max</th>\n",
       "      <td>38.000000</td>\n",
       "      <td>39.000000</td>\n",
       "      <td>33.000000</td>\n",
       "      <td>110.000000</td>\n",
       "      <td>77.000000</td>\n",
       "    </tr>\n",
       "  </tbody>\n",
       "</table>\n",
       "</div>"
      ],
      "text/plain": [
       "       Gold Medal  Silver Medal  Bronze Medal       Total  Rank By Total\n",
       "count   93.000000     93.000000     93.000000   93.000000      93.000000\n",
       "mean     3.580645      3.559140      4.311828   11.451613      43.483871\n",
       "std      6.933414      6.419167      6.206551   18.798425      24.199179\n",
       "min      0.000000      0.000000      0.000000    1.000000       1.000000\n",
       "25%      0.000000      0.000000      1.000000    2.000000      23.000000\n",
       "50%      1.000000      1.000000      2.000000    4.000000      46.000000\n",
       "75%      3.000000      4.000000      5.000000   11.000000      66.000000\n",
       "max     38.000000     39.000000     33.000000  110.000000      77.000000"
      ]
     },
     "execution_count": 9,
     "metadata": {},
     "output_type": "execute_result"
    }
   ],
   "source": [
    "df.describe()"
   ]
  },
  {
   "cell_type": "code",
   "execution_count": 10,
   "id": "f70ae494",
   "metadata": {
    "execution": {
     "iopub.execute_input": "2021-08-08T11:41:22.069038Z",
     "iopub.status.busy": "2021-08-08T11:41:22.068392Z",
     "iopub.status.idle": "2021-08-08T11:41:22.113524Z",
     "shell.execute_reply": "2021-08-08T11:41:22.112901Z",
     "shell.execute_reply.started": "2021-08-08T11:26:22.636641Z"
    },
    "papermill": {
     "duration": 0.093405,
     "end_time": "2021-08-08T11:41:22.113669",
     "exception": false,
     "start_time": "2021-08-08T11:41:22.020264",
     "status": "completed"
    },
    "tags": []
   },
   "outputs": [
    {
     "data": {
      "text/html": [
       "<div>\n",
       "<style scoped>\n",
       "    .dataframe tbody tr th:only-of-type {\n",
       "        vertical-align: middle;\n",
       "    }\n",
       "\n",
       "    .dataframe tbody tr th {\n",
       "        vertical-align: top;\n",
       "    }\n",
       "\n",
       "    .dataframe thead th {\n",
       "        text-align: right;\n",
       "    }\n",
       "</style>\n",
       "<table border=\"1\" class=\"dataframe\">\n",
       "  <thead>\n",
       "    <tr style=\"text-align: right;\">\n",
       "      <th></th>\n",
       "      <th>Country</th>\n",
       "      <th>Gold Medal</th>\n",
       "      <th>Silver Medal</th>\n",
       "      <th>Bronze Medal</th>\n",
       "      <th>Total</th>\n",
       "      <th>Rank By Total</th>\n",
       "    </tr>\n",
       "  </thead>\n",
       "  <tbody>\n",
       "    <tr>\n",
       "      <th>count</th>\n",
       "      <td>93</td>\n",
       "      <td>93.000000</td>\n",
       "      <td>93.000000</td>\n",
       "      <td>93.000000</td>\n",
       "      <td>93.000000</td>\n",
       "      <td>93.000000</td>\n",
       "    </tr>\n",
       "    <tr>\n",
       "      <th>unique</th>\n",
       "      <td>93</td>\n",
       "      <td>NaN</td>\n",
       "      <td>NaN</td>\n",
       "      <td>NaN</td>\n",
       "      <td>NaN</td>\n",
       "      <td>NaN</td>\n",
       "    </tr>\n",
       "    <tr>\n",
       "      <th>top</th>\n",
       "      <td>Fiji</td>\n",
       "      <td>NaN</td>\n",
       "      <td>NaN</td>\n",
       "      <td>NaN</td>\n",
       "      <td>NaN</td>\n",
       "      <td>NaN</td>\n",
       "    </tr>\n",
       "    <tr>\n",
       "      <th>freq</th>\n",
       "      <td>1</td>\n",
       "      <td>NaN</td>\n",
       "      <td>NaN</td>\n",
       "      <td>NaN</td>\n",
       "      <td>NaN</td>\n",
       "      <td>NaN</td>\n",
       "    </tr>\n",
       "    <tr>\n",
       "      <th>mean</th>\n",
       "      <td>NaN</td>\n",
       "      <td>3.580645</td>\n",
       "      <td>3.559140</td>\n",
       "      <td>4.311828</td>\n",
       "      <td>11.451613</td>\n",
       "      <td>43.483871</td>\n",
       "    </tr>\n",
       "    <tr>\n",
       "      <th>std</th>\n",
       "      <td>NaN</td>\n",
       "      <td>6.933414</td>\n",
       "      <td>6.419167</td>\n",
       "      <td>6.206551</td>\n",
       "      <td>18.798425</td>\n",
       "      <td>24.199179</td>\n",
       "    </tr>\n",
       "    <tr>\n",
       "      <th>min</th>\n",
       "      <td>NaN</td>\n",
       "      <td>0.000000</td>\n",
       "      <td>0.000000</td>\n",
       "      <td>0.000000</td>\n",
       "      <td>1.000000</td>\n",
       "      <td>1.000000</td>\n",
       "    </tr>\n",
       "    <tr>\n",
       "      <th>25%</th>\n",
       "      <td>NaN</td>\n",
       "      <td>0.000000</td>\n",
       "      <td>0.000000</td>\n",
       "      <td>1.000000</td>\n",
       "      <td>2.000000</td>\n",
       "      <td>23.000000</td>\n",
       "    </tr>\n",
       "    <tr>\n",
       "      <th>50%</th>\n",
       "      <td>NaN</td>\n",
       "      <td>1.000000</td>\n",
       "      <td>1.000000</td>\n",
       "      <td>2.000000</td>\n",
       "      <td>4.000000</td>\n",
       "      <td>46.000000</td>\n",
       "    </tr>\n",
       "    <tr>\n",
       "      <th>75%</th>\n",
       "      <td>NaN</td>\n",
       "      <td>3.000000</td>\n",
       "      <td>4.000000</td>\n",
       "      <td>5.000000</td>\n",
       "      <td>11.000000</td>\n",
       "      <td>66.000000</td>\n",
       "    </tr>\n",
       "    <tr>\n",
       "      <th>max</th>\n",
       "      <td>NaN</td>\n",
       "      <td>38.000000</td>\n",
       "      <td>39.000000</td>\n",
       "      <td>33.000000</td>\n",
       "      <td>110.000000</td>\n",
       "      <td>77.000000</td>\n",
       "    </tr>\n",
       "  </tbody>\n",
       "</table>\n",
       "</div>"
      ],
      "text/plain": [
       "       Country  Gold Medal  Silver Medal  Bronze Medal       Total  \\\n",
       "count       93   93.000000     93.000000     93.000000   93.000000   \n",
       "unique      93         NaN           NaN           NaN         NaN   \n",
       "top       Fiji         NaN           NaN           NaN         NaN   \n",
       "freq         1         NaN           NaN           NaN         NaN   \n",
       "mean       NaN    3.580645      3.559140      4.311828   11.451613   \n",
       "std        NaN    6.933414      6.419167      6.206551   18.798425   \n",
       "min        NaN    0.000000      0.000000      0.000000    1.000000   \n",
       "25%        NaN    0.000000      0.000000      1.000000    2.000000   \n",
       "50%        NaN    1.000000      1.000000      2.000000    4.000000   \n",
       "75%        NaN    3.000000      4.000000      5.000000   11.000000   \n",
       "max        NaN   38.000000     39.000000     33.000000  110.000000   \n",
       "\n",
       "        Rank By Total  \n",
       "count       93.000000  \n",
       "unique            NaN  \n",
       "top               NaN  \n",
       "freq              NaN  \n",
       "mean        43.483871  \n",
       "std         24.199179  \n",
       "min          1.000000  \n",
       "25%         23.000000  \n",
       "50%         46.000000  \n",
       "75%         66.000000  \n",
       "max         77.000000  "
      ]
     },
     "execution_count": 10,
     "metadata": {},
     "output_type": "execute_result"
    }
   ],
   "source": [
    "# I know it has nothing to do in it. But still lets look at it.\n",
    "df.describe(include = \"all\")"
   ]
  },
  {
   "cell_type": "code",
   "execution_count": 11,
   "id": "71f3b169",
   "metadata": {
    "execution": {
     "iopub.execute_input": "2021-08-08T11:41:22.174929Z",
     "iopub.status.busy": "2021-08-08T11:41:22.174336Z",
     "iopub.status.idle": "2021-08-08T11:41:22.180827Z",
     "shell.execute_reply": "2021-08-08T11:41:22.181305Z",
     "shell.execute_reply.started": "2021-08-08T11:26:32.00059Z"
    },
    "papermill": {
     "duration": 0.039983,
     "end_time": "2021-08-08T11:41:22.181472",
     "exception": false,
     "start_time": "2021-08-08T11:41:22.141489",
     "status": "completed"
    },
    "tags": []
   },
   "outputs": [
    {
     "data": {
      "text/plain": [
       "count       93\n",
       "unique      93\n",
       "top       Fiji\n",
       "freq         1\n",
       "Name: Country, dtype: object"
      ]
     },
     "execution_count": 11,
     "metadata": {},
     "output_type": "execute_result"
    }
   ],
   "source": [
    "df[\"Country\"].describe()\n"
   ]
  },
  {
   "cell_type": "code",
   "execution_count": 12,
   "id": "56095682",
   "metadata": {
    "execution": {
     "iopub.execute_input": "2021-08-08T11:41:22.242294Z",
     "iopub.status.busy": "2021-08-08T11:41:22.241680Z",
     "iopub.status.idle": "2021-08-08T11:41:22.249307Z",
     "shell.execute_reply": "2021-08-08T11:41:22.250036Z",
     "shell.execute_reply.started": "2021-08-08T10:42:51.902268Z"
    },
    "papermill": {
     "duration": 0.040327,
     "end_time": "2021-08-08T11:41:22.250271",
     "exception": false,
     "start_time": "2021-08-08T11:41:22.209944",
     "status": "completed"
    },
    "tags": []
   },
   "outputs": [
    {
     "data": {
      "text/plain": [
       "Country          object\n",
       "Gold Medal        int64\n",
       "Silver Medal      int64\n",
       "Bronze Medal      int64\n",
       "Total             int64\n",
       "Rank By Total     int64\n",
       "dtype: object"
      ]
     },
     "execution_count": 12,
     "metadata": {},
     "output_type": "execute_result"
    }
   ],
   "source": [
    "df.dtypes"
   ]
  },
  {
   "cell_type": "code",
   "execution_count": 13,
   "id": "cf02ec3a",
   "metadata": {
    "execution": {
     "iopub.execute_input": "2021-08-08T11:41:22.309046Z",
     "iopub.status.busy": "2021-08-08T11:41:22.308423Z",
     "iopub.status.idle": "2021-08-08T11:41:22.326929Z",
     "shell.execute_reply": "2021-08-08T11:41:22.326373Z",
     "shell.execute_reply.started": "2021-08-08T10:42:51.918097Z"
    },
    "papermill": {
     "duration": 0.049718,
     "end_time": "2021-08-08T11:41:22.327133",
     "exception": false,
     "start_time": "2021-08-08T11:41:22.277415",
     "status": "completed"
    },
    "tags": []
   },
   "outputs": [
    {
     "name": "stdout",
     "output_type": "stream",
     "text": [
      "<class 'pandas.core.frame.DataFrame'>\n",
      "RangeIndex: 93 entries, 0 to 92\n",
      "Data columns (total 6 columns):\n",
      " #   Column         Non-Null Count  Dtype \n",
      "---  ------         --------------  ----- \n",
      " 0   Country        93 non-null     object\n",
      " 1   Gold Medal     93 non-null     int64 \n",
      " 2   Silver Medal   93 non-null     int64 \n",
      " 3   Bronze Medal   93 non-null     int64 \n",
      " 4   Total          93 non-null     int64 \n",
      " 5   Rank By Total  93 non-null     int64 \n",
      "dtypes: int64(5), object(1)\n",
      "memory usage: 4.5+ KB\n"
     ]
    }
   ],
   "source": [
    "df.info()"
   ]
  },
  {
   "cell_type": "code",
   "execution_count": null,
   "id": "f88d3c6e",
   "metadata": {
    "papermill": {
     "duration": 0.026587,
     "end_time": "2021-08-08T11:41:22.384357",
     "exception": false,
     "start_time": "2021-08-08T11:41:22.357770",
     "status": "completed"
    },
    "tags": []
   },
   "outputs": [],
   "source": []
  },
  {
   "cell_type": "markdown",
   "id": "dfdb91ff",
   "metadata": {
    "papermill": {
     "duration": 0.026121,
     "end_time": "2021-08-08T11:41:22.436894",
     "exception": false,
     "start_time": "2021-08-08T11:41:22.410773",
     "status": "completed"
    },
    "tags": []
   },
   "source": [
    "Let me be **patriotic** and see **India's** Rank again. This time with the help of codes. "
   ]
  },
  {
   "cell_type": "code",
   "execution_count": 14,
   "id": "1ab20b80",
   "metadata": {
    "execution": {
     "iopub.execute_input": "2021-08-08T11:41:22.505525Z",
     "iopub.status.busy": "2021-08-08T11:41:22.504686Z",
     "iopub.status.idle": "2021-08-08T11:41:22.510126Z",
     "shell.execute_reply": "2021-08-08T11:41:22.509515Z",
     "shell.execute_reply.started": "2021-08-08T10:42:51.939067Z"
    },
    "papermill": {
     "duration": 0.046673,
     "end_time": "2021-08-08T11:41:22.510300",
     "exception": false,
     "start_time": "2021-08-08T11:41:22.463627",
     "status": "completed"
    },
    "tags": []
   },
   "outputs": [
    {
     "name": "stdout",
     "output_type": "stream",
     "text": [
      "   Country  Gold Medal  Silver Medal  Bronze Medal  Total  Rank By Total\n",
      "46   India           1             2             4      7             33\n",
      "\n",
      "\n",
      "\n",
      "\n",
      "Other Way : \n",
      "\n",
      "\n",
      "   Country  Gold Medal  Silver Medal  Bronze Medal  Total  Rank By Total\n",
      "46   India           1             2             4      7             33\n"
     ]
    }
   ],
   "source": [
    "\n",
    "print(df[df[\"Country\"].values == \"India\"])\n",
    "\n",
    "print(\"\\n\")\n",
    "print(\"\\n\")\n",
    "print(\"Other Way : \")\n",
    "print(\"\\n\")\n",
    "# Checking details for India \n",
    "\n",
    "# We can do this other way also. \n",
    "print(df.loc[df.Country==\"India\"])"
   ]
  },
  {
   "cell_type": "markdown",
   "id": "583aaf03",
   "metadata": {
    "papermill": {
     "duration": 0.026189,
     "end_time": "2021-08-08T11:41:22.564911",
     "exception": false,
     "start_time": "2021-08-08T11:41:22.538722",
     "status": "completed"
    },
    "tags": []
   },
   "source": [
    "**Yayy, Cheers** . India won 7 medals in total. How many medals has your country won? Let me know in the comments. "
   ]
  },
  {
   "cell_type": "code",
   "execution_count": 15,
   "id": "c993a46f",
   "metadata": {
    "execution": {
     "iopub.execute_input": "2021-08-08T11:41:22.622438Z",
     "iopub.status.busy": "2021-08-08T11:41:22.621600Z",
     "iopub.status.idle": "2021-08-08T11:41:22.629209Z",
     "shell.execute_reply": "2021-08-08T11:41:22.629712Z",
     "shell.execute_reply.started": "2021-08-08T11:28:12.642779Z"
    },
    "papermill": {
     "duration": 0.038195,
     "end_time": "2021-08-08T11:41:22.629897",
     "exception": false,
     "start_time": "2021-08-08T11:41:22.591702",
     "status": "completed"
    },
    "tags": []
   },
   "outputs": [
    {
     "data": {
      "text/plain": [
       "0"
      ]
     },
     "execution_count": 15,
     "metadata": {},
     "output_type": "execute_result"
    }
   ],
   "source": [
    "# Checking if we have any missing values in our dataset.\n",
    "df.isnull().any().sum()"
   ]
  },
  {
   "cell_type": "markdown",
   "id": "9617a983",
   "metadata": {
    "papermill": {
     "duration": 0.026871,
     "end_time": "2021-08-08T11:41:22.685212",
     "exception": false,
     "start_time": "2021-08-08T11:41:22.658341",
     "status": "completed"
    },
    "tags": []
   },
   "source": [
    "So we do not have any missing values in our dataset. Thats great . **Cheers again!**"
   ]
  },
  {
   "cell_type": "markdown",
   "id": "9dfc51c3",
   "metadata": {
    "papermill": {
     "duration": 0.027206,
     "end_time": "2021-08-08T11:41:22.740783",
     "exception": false,
     "start_time": "2021-08-08T11:41:22.713577",
     "status": "completed"
    },
    "tags": []
   },
   "source": [
    "**Lets Sort our Data First**"
   ]
  },
  {
   "cell_type": "code",
   "execution_count": 16,
   "id": "0ab4086e",
   "metadata": {
    "execution": {
     "iopub.execute_input": "2021-08-08T11:41:22.801380Z",
     "iopub.status.busy": "2021-08-08T11:41:22.800752Z",
     "iopub.status.idle": "2021-08-08T11:41:22.815528Z",
     "shell.execute_reply": "2021-08-08T11:41:22.816064Z",
     "shell.execute_reply.started": "2021-08-08T10:42:51.968694Z"
    },
    "papermill": {
     "duration": 0.045529,
     "end_time": "2021-08-08T11:41:22.816245",
     "exception": false,
     "start_time": "2021-08-08T11:41:22.770716",
     "status": "completed"
    },
    "tags": []
   },
   "outputs": [
    {
     "data": {
      "text/html": [
       "<div>\n",
       "<style scoped>\n",
       "    .dataframe tbody tr th:only-of-type {\n",
       "        vertical-align: middle;\n",
       "    }\n",
       "\n",
       "    .dataframe tbody tr th {\n",
       "        vertical-align: top;\n",
       "    }\n",
       "\n",
       "    .dataframe thead th {\n",
       "        text-align: right;\n",
       "    }\n",
       "</style>\n",
       "<table border=\"1\" class=\"dataframe\">\n",
       "  <thead>\n",
       "    <tr style=\"text-align: right;\">\n",
       "      <th></th>\n",
       "      <th>Country</th>\n",
       "      <th>Gold Medal</th>\n",
       "      <th>Silver Medal</th>\n",
       "      <th>Bronze Medal</th>\n",
       "      <th>Total</th>\n",
       "      <th>Rank By Total</th>\n",
       "    </tr>\n",
       "  </thead>\n",
       "  <tbody>\n",
       "    <tr>\n",
       "      <th>0</th>\n",
       "      <td>United States of America</td>\n",
       "      <td>38</td>\n",
       "      <td>39</td>\n",
       "      <td>33</td>\n",
       "      <td>110</td>\n",
       "      <td>1</td>\n",
       "    </tr>\n",
       "    <tr>\n",
       "      <th>1</th>\n",
       "      <td>People's Republic of China</td>\n",
       "      <td>38</td>\n",
       "      <td>31</td>\n",
       "      <td>18</td>\n",
       "      <td>87</td>\n",
       "      <td>2</td>\n",
       "    </tr>\n",
       "    <tr>\n",
       "      <th>4</th>\n",
       "      <td>ROC</td>\n",
       "      <td>20</td>\n",
       "      <td>27</td>\n",
       "      <td>23</td>\n",
       "      <td>70</td>\n",
       "      <td>3</td>\n",
       "    </tr>\n",
       "    <tr>\n",
       "      <th>3</th>\n",
       "      <td>Great Britain</td>\n",
       "      <td>21</td>\n",
       "      <td>21</td>\n",
       "      <td>22</td>\n",
       "      <td>64</td>\n",
       "      <td>4</td>\n",
       "    </tr>\n",
       "    <tr>\n",
       "      <th>2</th>\n",
       "      <td>Japan</td>\n",
       "      <td>27</td>\n",
       "      <td>14</td>\n",
       "      <td>17</td>\n",
       "      <td>58</td>\n",
       "      <td>5</td>\n",
       "    </tr>\n",
       "    <tr>\n",
       "      <th>...</th>\n",
       "      <td>...</td>\n",
       "      <td>...</td>\n",
       "      <td>...</td>\n",
       "      <td>...</td>\n",
       "      <td>...</td>\n",
       "      <td>...</td>\n",
       "    </tr>\n",
       "    <tr>\n",
       "      <th>63</th>\n",
       "      <td>Morocco</td>\n",
       "      <td>1</td>\n",
       "      <td>0</td>\n",
       "      <td>0</td>\n",
       "      <td>1</td>\n",
       "      <td>77</td>\n",
       "    </tr>\n",
       "    <tr>\n",
       "      <th>62</th>\n",
       "      <td>Bermuda</td>\n",
       "      <td>1</td>\n",
       "      <td>0</td>\n",
       "      <td>0</td>\n",
       "      <td>1</td>\n",
       "      <td>77</td>\n",
       "    </tr>\n",
       "    <tr>\n",
       "      <th>91</th>\n",
       "      <td>Republic of Moldova</td>\n",
       "      <td>0</td>\n",
       "      <td>0</td>\n",
       "      <td>1</td>\n",
       "      <td>1</td>\n",
       "      <td>77</td>\n",
       "    </tr>\n",
       "    <tr>\n",
       "      <th>81</th>\n",
       "      <td>Turkmenistan</td>\n",
       "      <td>0</td>\n",
       "      <td>1</td>\n",
       "      <td>0</td>\n",
       "      <td>1</td>\n",
       "      <td>77</td>\n",
       "    </tr>\n",
       "    <tr>\n",
       "      <th>92</th>\n",
       "      <td>Syrian Arab Republic</td>\n",
       "      <td>0</td>\n",
       "      <td>0</td>\n",
       "      <td>1</td>\n",
       "      <td>1</td>\n",
       "      <td>77</td>\n",
       "    </tr>\n",
       "  </tbody>\n",
       "</table>\n",
       "<p>93 rows × 6 columns</p>\n",
       "</div>"
      ],
      "text/plain": [
       "                       Country  Gold Medal  Silver Medal  Bronze Medal  Total  \\\n",
       "0     United States of America          38            39            33    110   \n",
       "1   People's Republic of China          38            31            18     87   \n",
       "4                          ROC          20            27            23     70   \n",
       "3                Great Britain          21            21            22     64   \n",
       "2                        Japan          27            14            17     58   \n",
       "..                         ...         ...           ...           ...    ...   \n",
       "63                     Morocco           1             0             0      1   \n",
       "62                     Bermuda           1             0             0      1   \n",
       "91         Republic of Moldova           0             0             1      1   \n",
       "81                Turkmenistan           0             1             0      1   \n",
       "92        Syrian Arab Republic           0             0             1      1   \n",
       "\n",
       "    Rank By Total  \n",
       "0               1  \n",
       "1               2  \n",
       "4               3  \n",
       "3               4  \n",
       "2               5  \n",
       "..            ...  \n",
       "63             77  \n",
       "62             77  \n",
       "91             77  \n",
       "81             77  \n",
       "92             77  \n",
       "\n",
       "[93 rows x 6 columns]"
      ]
     },
     "execution_count": 16,
     "metadata": {},
     "output_type": "execute_result"
    }
   ],
   "source": [
    "df.sort_values(by = [\"Rank By Total\"], ascending = True)"
   ]
  },
  {
   "cell_type": "markdown",
   "id": "e353b524",
   "metadata": {
    "papermill": {
     "duration": 0.027854,
     "end_time": "2021-08-08T11:41:22.875925",
     "exception": false,
     "start_time": "2021-08-08T11:41:22.848071",
     "status": "completed"
    },
    "tags": []
   },
   "source": [
    "Viewing India's Rank using the code below."
   ]
  },
  {
   "cell_type": "markdown",
   "id": "cd68a80a",
   "metadata": {
    "papermill": {
     "duration": 0.028419,
     "end_time": "2021-08-08T11:41:22.931675",
     "exception": false,
     "start_time": "2021-08-08T11:41:22.903256",
     "status": "completed"
    },
    "tags": []
   },
   "source": [
    "**Viewing top 5 countries according to the medals they have.** "
   ]
  },
  {
   "cell_type": "code",
   "execution_count": 17,
   "id": "98f91dfb",
   "metadata": {
    "execution": {
     "iopub.execute_input": "2021-08-08T11:41:22.992685Z",
     "iopub.status.busy": "2021-08-08T11:41:22.992086Z",
     "iopub.status.idle": "2021-08-08T11:41:23.007086Z",
     "shell.execute_reply": "2021-08-08T11:41:23.006202Z",
     "shell.execute_reply.started": "2021-08-08T10:42:51.989891Z"
    },
    "papermill": {
     "duration": 0.047801,
     "end_time": "2021-08-08T11:41:23.007284",
     "exception": false,
     "start_time": "2021-08-08T11:41:22.959483",
     "status": "completed"
    },
    "tags": []
   },
   "outputs": [
    {
     "name": "stdout",
     "output_type": "stream",
     "text": [
      "Top Countries with most number of Bronze Medals\n",
      "                    Country  Bronze Medal\n",
      "0  United States of America            33\n",
      "4                       ROC            23\n",
      "3             Great Britain            22\n",
      "5                 Australia            22\n",
      "8                     Italy            20\n",
      "\n",
      "\n",
      "\n",
      "\n"
     ]
    }
   ],
   "source": [
    "# Viewing top 5 countries with most number of bronge medals \n",
    "print(\"Top Countries with most number of Bronze Medals\")\n",
    "top_bm=df.nlargest(5, \"Bronze Medal\")[[\"Country\",\"Bronze Medal\"]]\n",
    "print(top_bm)\n",
    "print(\"\\n\")\n",
    "print(\"\\n\")\n",
    "\n"
   ]
  },
  {
   "cell_type": "markdown",
   "id": "9013c7af",
   "metadata": {
    "papermill": {
     "duration": 0.02905,
     "end_time": "2021-08-08T11:41:23.066701",
     "exception": false,
     "start_time": "2021-08-08T11:41:23.037651",
     "status": "completed"
    },
    "tags": []
   },
   "source": [
    "Viewing top 5 countries with most number of Gold and Silver medals. "
   ]
  },
  {
   "cell_type": "code",
   "execution_count": 18,
   "id": "b184ac73",
   "metadata": {
    "execution": {
     "iopub.execute_input": "2021-08-08T11:41:23.148576Z",
     "iopub.status.busy": "2021-08-08T11:41:23.147768Z",
     "iopub.status.idle": "2021-08-08T11:41:23.151554Z",
     "shell.execute_reply": "2021-08-08T11:41:23.152142Z",
     "shell.execute_reply.started": "2021-08-08T10:42:52.005018Z"
    },
    "papermill": {
     "duration": 0.052809,
     "end_time": "2021-08-08T11:41:23.152324",
     "exception": false,
     "start_time": "2021-08-08T11:41:23.099515",
     "status": "completed"
    },
    "tags": []
   },
   "outputs": [
    {
     "name": "stdout",
     "output_type": "stream",
     "text": [
      "Top Countries with most number of Gold Medals\n",
      "                      Country  Gold Medal\n",
      "0    United States of America          38\n",
      "1  People's Republic of China          38\n",
      "2                       Japan          27\n",
      "3               Great Britain          21\n",
      "4                         ROC          20\n",
      "\n",
      "\n",
      "\n",
      "\n",
      "Top Countries with most number of Silver Medals\n",
      "\n",
      "\n",
      "                      Country  Silver Medal\n",
      "0    United States of America            39\n",
      "1  People's Republic of China            31\n",
      "4                         ROC            27\n",
      "3               Great Britain            21\n",
      "2                       Japan            14\n"
     ]
    }
   ],
   "source": [
    "print(\"Top Countries with most number of Gold Medals\")\n",
    "top_gm =df.nlargest(5, \"Gold Medal\")[[\"Country\", \"Gold Medal\"]]\n",
    "print(top_gm)\n",
    "\n",
    "print(\"\\n\")\n",
    "print(\"\\n\")\n",
    "\n",
    "print(\"Top Countries with most number of Silver Medals\")\n",
    "print(\"\\n\")\n",
    "top_sm = pd.DataFrame(df.nlargest(5, \"Silver Medal\")[[\"Country\", \"Silver Medal\"]])\n",
    "print(top_sm)"
   ]
  },
  {
   "cell_type": "markdown",
   "id": "e8621bf3",
   "metadata": {
    "papermill": {
     "duration": 0.028774,
     "end_time": "2021-08-08T11:41:23.211169",
     "exception": false,
     "start_time": "2021-08-08T11:41:23.182395",
     "status": "completed"
    },
    "tags": []
   },
   "source": [
    "# Data Visualisation "
   ]
  },
  {
   "cell_type": "markdown",
   "id": "0759a07d",
   "metadata": {
    "papermill": {
     "duration": 0.03104,
     "end_time": "2021-08-08T11:41:23.272933",
     "exception": false,
     "start_time": "2021-08-08T11:41:23.241893",
     "status": "completed"
    },
    "tags": []
   },
   "source": [
    "Plotting total medals won by each Country."
   ]
  },
  {
   "cell_type": "code",
   "execution_count": 19,
   "id": "dca6fcdd",
   "metadata": {
    "execution": {
     "iopub.execute_input": "2021-08-08T11:41:23.344489Z",
     "iopub.status.busy": "2021-08-08T11:41:23.343126Z",
     "iopub.status.idle": "2021-08-08T11:41:25.419445Z",
     "shell.execute_reply": "2021-08-08T11:41:25.418903Z",
     "shell.execute_reply.started": "2021-08-08T10:53:28.777315Z"
    },
    "papermill": {
     "duration": 2.116297,
     "end_time": "2021-08-08T11:41:25.419597",
     "exception": false,
     "start_time": "2021-08-08T11:41:23.303300",
     "status": "completed"
    },
    "tags": []
   },
   "outputs": [
    {
     "data": {
      "text/plain": [
       "Text(0.5, 1.0, 'Total Medals per Country')"
      ]
     },
     "execution_count": 19,
     "metadata": {},
     "output_type": "execute_result"
    },
    {
     "data": {
      "image/png": "[encoded data removed]",
      "text/plain": [
       "<Figure size 2160x1800 with 1 Axes>"
      ]
     },
     "metadata": {
      "needs_background": "light"
     },
     "output_type": "display_data"
    }
   ],
   "source": [
    "plt.figure(figsize=(30,25))\n",
    "sns.barplot(y = \"Country\", x = \"Total\", data = df)\n",
    "plt.xlabel('Total Medals')\n",
    "plt.ylabel('Country')\n",
    "plt.title('Total Medals per Country')"
   ]
  },
  {
   "cell_type": "markdown",
   "id": "a75dcc54",
   "metadata": {
    "papermill": {
     "duration": 0.030781,
     "end_time": "2021-08-08T11:41:25.492225",
     "exception": false,
     "start_time": "2021-08-08T11:41:25.461444",
     "status": "completed"
    },
    "tags": []
   },
   "source": [
    "Lets see how many gold medals have been won in total."
   ]
  },
  {
   "cell_type": "code",
   "execution_count": 20,
   "id": "ae7f2c4c",
   "metadata": {
    "execution": {
     "iopub.execute_input": "2021-08-08T11:41:25.562241Z",
     "iopub.status.busy": "2021-08-08T11:41:25.561399Z",
     "iopub.status.idle": "2021-08-08T11:41:25.565283Z",
     "shell.execute_reply": "2021-08-08T11:41:25.565919Z",
     "shell.execute_reply.started": "2021-08-08T10:42:52.037028Z"
    },
    "papermill": {
     "duration": 0.042859,
     "end_time": "2021-08-08T11:41:25.566153",
     "exception": false,
     "start_time": "2021-08-08T11:41:25.523294",
     "status": "completed"
    },
    "tags": []
   },
   "outputs": [
    {
     "name": "stdout",
     "output_type": "stream",
     "text": [
      "Total Gold Medals won in olympics till now :  333\n",
      "Total Silver Medals won in olympics till now :  331\n",
      "Total Bronze Medals won in olympics till now :  401\n"
     ]
    }
   ],
   "source": [
    "total_gm =df[\"Gold Medal\"].sum()\n",
    "total_sm = df[\"Silver Medal\"].sum()\n",
    "total_bm = df[\"Bronze Medal\"].sum()\n",
    "print(\"Total Gold Medals won in olympics till now : \", df[\"Gold Medal\"].sum())\n",
    "print(\"Total Silver Medals won in olympics till now : \", df[\"Silver Medal\"].sum())\n",
    "print(\"Total Bronze Medals won in olympics till now : \", df[\"Bronze Medal\"].sum())"
   ]
  },
  {
   "cell_type": "code",
   "execution_count": 21,
   "id": "d5b032e3",
   "metadata": {
    "execution": {
     "iopub.execute_input": "2021-08-08T11:41:25.758745Z",
     "iopub.status.busy": "2021-08-08T11:41:25.758020Z",
     "iopub.status.idle": "2021-08-08T11:41:25.894378Z",
     "shell.execute_reply": "2021-08-08T11:41:25.893760Z",
     "shell.execute_reply.started": "2021-08-08T10:58:34.215591Z"
    },
    "papermill": {
     "duration": 0.293972,
     "end_time": "2021-08-08T11:41:25.894514",
     "exception": false,
     "start_time": "2021-08-08T11:41:25.600542",
     "status": "completed"
    },
    "tags": []
   },
   "outputs": [
    {
     "data": {
      "image/png": "[encoded data removed]",
      "text/plain": [
       "<Figure size 1080x360 with 1 Axes>"
      ]
     },
     "metadata": {
      "needs_background": "light"
     },
     "output_type": "display_data"
    }
   ],
   "source": [
    "plt.figure(figsize= (15,5))\n",
    "s=plt.bar(top_gm[\"Country\"], top_gm[\"Gold Medal\"], width = 0.4)\n",
    "s[0].set_color(\"gold\")\n",
    "plt.xlabel(\"Country\")\n",
    "plt.ylabel(\"Medals\")\n",
    "plt.title(\"Top 5 Countries with Gold Medals\")\n",
    "plt.show()\n"
   ]
  },
  {
   "cell_type": "code",
   "execution_count": null,
   "id": "632b728b",
   "metadata": {
    "papermill": {
     "duration": 0.036443,
     "end_time": "2021-08-08T11:41:25.964267",
     "exception": false,
     "start_time": "2021-08-08T11:41:25.927824",
     "status": "completed"
    },
    "tags": []
   },
   "outputs": [],
   "source": []
  },
  {
   "cell_type": "code",
   "execution_count": 22,
   "id": "a34f0097",
   "metadata": {
    "execution": {
     "iopub.execute_input": "2021-08-08T11:41:26.061720Z",
     "iopub.status.busy": "2021-08-08T11:41:26.059680Z",
     "iopub.status.idle": "2021-08-08T11:41:26.199382Z",
     "shell.execute_reply": "2021-08-08T11:41:26.198762Z",
     "shell.execute_reply.started": "2021-08-08T10:59:56.499587Z"
    },
    "papermill": {
     "duration": 0.202154,
     "end_time": "2021-08-08T11:41:26.199522",
     "exception": false,
     "start_time": "2021-08-08T11:41:25.997368",
     "status": "completed"
    },
    "tags": []
   },
   "outputs": [
    {
     "data": {
      "image/png": "[encoded data removed]",
      "text/plain": [
       "<Figure size 1080x360 with 1 Axes>"
      ]
     },
     "metadata": {
      "needs_background": "light"
     },
     "output_type": "display_data"
    }
   ],
   "source": [
    "plt.figure(figsize= (15,5))\n",
    "s=plt.bar(top_sm[\"Country\"], top_sm[\"Silver Medal\"], width = 0.4)\n",
    "s[0].set_color(\"silver\")\n",
    "\n",
    "plt.xlabel(\"Country\")\n",
    "plt.ylabel(\"Medals\")\n",
    "plt.title(\"Top 5 Countries with Silver Medals\")\n",
    "plt.show()"
   ]
  },
  {
   "cell_type": "code",
   "execution_count": 23,
   "id": "dfdcc921",
   "metadata": {
    "execution": {
     "iopub.execute_input": "2021-08-08T11:41:26.289303Z",
     "iopub.status.busy": "2021-08-08T11:41:26.288623Z",
     "iopub.status.idle": "2021-08-08T11:41:26.414156Z",
     "shell.execute_reply": "2021-08-08T11:41:26.413241Z",
     "shell.execute_reply.started": "2021-08-08T11:00:18.775587Z"
    },
    "papermill": {
     "duration": 0.181294,
     "end_time": "2021-08-08T11:41:26.414303",
     "exception": false,
     "start_time": "2021-08-08T11:41:26.233009",
     "status": "completed"
    },
    "tags": []
   },
   "outputs": [
    {
     "data": {
      "image/png": "[encoded data removed]",
      "text/plain": [
       "<Figure size 1080x360 with 1 Axes>"
      ]
     },
     "metadata": {
      "needs_background": "light"
     },
     "output_type": "display_data"
    }
   ],
   "source": [
    "plt.figure(figsize= (15,5))\n",
    "s=plt.bar(top_bm[\"Country\"], top_bm[\"Bronze Medal\"], width = 0.4)\n",
    "s[0].set_color(\"brown\")\n",
    "plt.xlabel(\"Country\")\n",
    "plt.ylabel(\"Medals\")\n",
    "plt.title(\"Top 5 Countries with Bronze Medals\")\n",
    "plt.show()"
   ]
  },
  {
   "cell_type": "markdown",
   "id": "6c0febb2",
   "metadata": {
    "papermill": {
     "duration": 0.032983,
     "end_time": "2021-08-08T11:41:26.482531",
     "exception": false,
     "start_time": "2021-08-08T11:41:26.449548",
     "status": "completed"
    },
    "tags": []
   },
   "source": [
    "**Creating Lineplot for the dataset.**"
   ]
  },
  {
   "cell_type": "code",
   "execution_count": 24,
   "id": "07563c95",
   "metadata": {
    "execution": {
     "iopub.execute_input": "2021-08-08T11:41:26.555126Z",
     "iopub.status.busy": "2021-08-08T11:41:26.554489Z",
     "iopub.status.idle": "2021-08-08T11:41:26.954584Z",
     "shell.execute_reply": "2021-08-08T11:41:26.955609Z",
     "shell.execute_reply.started": "2021-08-08T10:43:39.530349Z"
    },
    "papermill": {
     "duration": 0.439485,
     "end_time": "2021-08-08T11:41:26.955836",
     "exception": false,
     "start_time": "2021-08-08T11:41:26.516351",
     "status": "completed"
    },
    "tags": []
   },
   "outputs": [
    {
     "data": {
      "text/plain": [
       "<AxesSubplot:>"
      ]
     },
     "execution_count": 24,
     "metadata": {},
     "output_type": "execute_result"
    },
    {
     "data": {
      "image/png": "[encoded data removed]",
      "text/plain": [
       "<Figure size 1440x1080 with 1 Axes>"
      ]
     },
     "metadata": {
      "needs_background": "light"
     },
     "output_type": "display_data"
    }
   ],
   "source": [
    "import seaborn as sns\n",
    "plt.figure(figsize=(20,15))\n",
    "sns.lineplot(data = df)"
   ]
  },
  {
   "cell_type": "code",
   "execution_count": 25,
   "id": "7e7e4a2b",
   "metadata": {
    "execution": {
     "iopub.execute_input": "2021-08-08T11:41:27.048354Z",
     "iopub.status.busy": "2021-08-08T11:41:27.040565Z",
     "iopub.status.idle": "2021-08-08T11:41:27.052288Z",
     "shell.execute_reply": "2021-08-08T11:41:27.052710Z",
     "shell.execute_reply.started": "2021-08-08T11:07:48.086707Z"
    },
    "papermill": {
     "duration": 0.057419,
     "end_time": "2021-08-08T11:41:27.052890",
     "exception": false,
     "start_time": "2021-08-08T11:41:26.995471",
     "status": "completed"
    },
    "tags": []
   },
   "outputs": [
    {
     "data": {
      "text/html": [
       "<div>\n",
       "<style scoped>\n",
       "    .dataframe tbody tr th:only-of-type {\n",
       "        vertical-align: middle;\n",
       "    }\n",
       "\n",
       "    .dataframe tbody tr th {\n",
       "        vertical-align: top;\n",
       "    }\n",
       "\n",
       "    .dataframe thead th {\n",
       "        text-align: right;\n",
       "    }\n",
       "</style>\n",
       "<table border=\"1\" class=\"dataframe\">\n",
       "  <thead>\n",
       "    <tr style=\"text-align: right;\">\n",
       "      <th></th>\n",
       "      <th>index</th>\n",
       "      <th>Country</th>\n",
       "      <th>Gold Medal</th>\n",
       "      <th>Silver Medal</th>\n",
       "      <th>Bronze Medal</th>\n",
       "      <th>Total</th>\n",
       "      <th>Rank By Total</th>\n",
       "    </tr>\n",
       "  </thead>\n",
       "  <tbody>\n",
       "    <tr>\n",
       "      <th>0</th>\n",
       "      <td>0</td>\n",
       "      <td>United States of America</td>\n",
       "      <td>38</td>\n",
       "      <td>39</td>\n",
       "      <td>33</td>\n",
       "      <td>110</td>\n",
       "      <td>1</td>\n",
       "    </tr>\n",
       "    <tr>\n",
       "      <th>1</th>\n",
       "      <td>1</td>\n",
       "      <td>People's Republic of China</td>\n",
       "      <td>38</td>\n",
       "      <td>31</td>\n",
       "      <td>18</td>\n",
       "      <td>87</td>\n",
       "      <td>2</td>\n",
       "    </tr>\n",
       "    <tr>\n",
       "      <th>2</th>\n",
       "      <td>4</td>\n",
       "      <td>ROC</td>\n",
       "      <td>20</td>\n",
       "      <td>27</td>\n",
       "      <td>23</td>\n",
       "      <td>70</td>\n",
       "      <td>3</td>\n",
       "    </tr>\n",
       "    <tr>\n",
       "      <th>3</th>\n",
       "      <td>3</td>\n",
       "      <td>Great Britain</td>\n",
       "      <td>21</td>\n",
       "      <td>21</td>\n",
       "      <td>22</td>\n",
       "      <td>64</td>\n",
       "      <td>4</td>\n",
       "    </tr>\n",
       "    <tr>\n",
       "      <th>4</th>\n",
       "      <td>2</td>\n",
       "      <td>Japan</td>\n",
       "      <td>27</td>\n",
       "      <td>14</td>\n",
       "      <td>17</td>\n",
       "      <td>58</td>\n",
       "      <td>5</td>\n",
       "    </tr>\n",
       "    <tr>\n",
       "      <th>5</th>\n",
       "      <td>5</td>\n",
       "      <td>Australia</td>\n",
       "      <td>17</td>\n",
       "      <td>7</td>\n",
       "      <td>22</td>\n",
       "      <td>46</td>\n",
       "      <td>6</td>\n",
       "    </tr>\n",
       "    <tr>\n",
       "      <th>6</th>\n",
       "      <td>8</td>\n",
       "      <td>Italy</td>\n",
       "      <td>10</td>\n",
       "      <td>10</td>\n",
       "      <td>20</td>\n",
       "      <td>40</td>\n",
       "      <td>7</td>\n",
       "    </tr>\n",
       "    <tr>\n",
       "      <th>7</th>\n",
       "      <td>7</td>\n",
       "      <td>Germany</td>\n",
       "      <td>10</td>\n",
       "      <td>11</td>\n",
       "      <td>16</td>\n",
       "      <td>37</td>\n",
       "      <td>8</td>\n",
       "    </tr>\n",
       "    <tr>\n",
       "      <th>8</th>\n",
       "      <td>6</td>\n",
       "      <td>Netherlands</td>\n",
       "      <td>10</td>\n",
       "      <td>12</td>\n",
       "      <td>14</td>\n",
       "      <td>36</td>\n",
       "      <td>9</td>\n",
       "    </tr>\n",
       "    <tr>\n",
       "      <th>9</th>\n",
       "      <td>9</td>\n",
       "      <td>France</td>\n",
       "      <td>9</td>\n",
       "      <td>12</td>\n",
       "      <td>11</td>\n",
       "      <td>32</td>\n",
       "      <td>10</td>\n",
       "    </tr>\n",
       "    <tr>\n",
       "      <th>10</th>\n",
       "      <td>10</td>\n",
       "      <td>Canada</td>\n",
       "      <td>7</td>\n",
       "      <td>6</td>\n",
       "      <td>11</td>\n",
       "      <td>24</td>\n",
       "      <td>11</td>\n",
       "    </tr>\n",
       "  </tbody>\n",
       "</table>\n",
       "</div>"
      ],
      "text/plain": [
       "    index                     Country  Gold Medal  Silver Medal  Bronze Medal  \\\n",
       "0       0    United States of America          38            39            33   \n",
       "1       1  People's Republic of China          38            31            18   \n",
       "2       4                         ROC          20            27            23   \n",
       "3       3               Great Britain          21            21            22   \n",
       "4       2                       Japan          27            14            17   \n",
       "5       5                   Australia          17             7            22   \n",
       "6       8                       Italy          10            10            20   \n",
       "7       7                     Germany          10            11            16   \n",
       "8       6                 Netherlands          10            12            14   \n",
       "9       9                      France           9            12            11   \n",
       "10     10                      Canada           7             6            11   \n",
       "\n",
       "    Total  Rank By Total  \n",
       "0     110              1  \n",
       "1      87              2  \n",
       "2      70              3  \n",
       "3      64              4  \n",
       "4      58              5  \n",
       "5      46              6  \n",
       "6      40              7  \n",
       "7      37              8  \n",
       "8      36              9  \n",
       "9      32             10  \n",
       "10     24             11  "
      ]
     },
     "execution_count": 25,
     "metadata": {},
     "output_type": "execute_result"
    }
   ],
   "source": [
    "# Making table of Top 10 Countries Overall. \n",
    "top_10 = df.sort_values(by=\"Rank By Total\",ascending=True)[:11]\n",
    "top_10.reset_index()"
   ]
  },
  {
   "cell_type": "markdown",
   "id": "34755351",
   "metadata": {
    "papermill": {
     "duration": 0.039137,
     "end_time": "2021-08-08T11:41:27.130263",
     "exception": false,
     "start_time": "2021-08-08T11:41:27.091126",
     "status": "completed"
    },
    "tags": []
   },
   "source": [
    "Making Piechart for top 10 countries. "
   ]
  },
  {
   "cell_type": "code",
   "execution_count": 26,
   "id": "b3e3ad89",
   "metadata": {
    "execution": {
     "iopub.execute_input": "2021-08-08T11:41:27.246372Z",
     "iopub.status.busy": "2021-08-08T11:41:27.240071Z",
     "iopub.status.idle": "2021-08-08T11:41:27.394588Z",
     "shell.execute_reply": "2021-08-08T11:41:27.394098Z",
     "shell.execute_reply.started": "2021-08-08T11:21:10.709755Z"
    },
    "papermill": {
     "duration": 0.22631,
     "end_time": "2021-08-08T11:41:27.394737",
     "exception": false,
     "start_time": "2021-08-08T11:41:27.168427",
     "status": "completed"
    },
    "tags": []
   },
   "outputs": [
    {
     "data": {
      "image/png": "[encoded data removed]",
      "text/plain": [
       "<Figure size 864x720 with 1 Axes>"
      ]
     },
     "metadata": {},
     "output_type": "display_data"
    }
   ],
   "source": [
    "plt.figure(figsize=(12,10))\n",
    "values = top_10[\"Total\"]\n",
    "label= top_10[\"Country\"]\n",
    "plt.pie(values, labels=label, labeldistance=1.1)\n",
    "plt.title(\"TOP 10 COUNTRIES\")\n",
    "plt.show()"
   ]
  },
  {
   "cell_type": "markdown",
   "id": "7613c67e",
   "metadata": {
    "papermill": {
     "duration": 0.039192,
     "end_time": "2021-08-08T11:41:27.473704",
     "exception": false,
     "start_time": "2021-08-08T11:41:27.434512",
     "status": "completed"
    },
    "tags": []
   },
   "source": [
    "I will be making many changes in it as I complete my Data Visualization Course. Till then, do provide suggestions and feedbacks so that I keep improving.\n",
    "**Thanks for your time**. If you find this interesting, hit that button:). It motivates me alot. \n",
    "\n"
   ]
  },
  {
   "cell_type": "code",
   "execution_count": null,
   "id": "53017c61",
   "metadata": {
    "papermill": {
     "duration": 0.040478,
     "end_time": "2021-08-08T11:41:27.553794",
     "exception": false,
     "start_time": "2021-08-08T11:41:27.513316",
     "status": "completed"
    },
    "tags": []
   },
   "outputs": [],
   "source": []
  }
 ],
 "metadata": {
  "kernelspec": {
   "display_name": "Python 3",
   "language": "python",
   "name": "python3"
  },
  "language_info": {
   "codemirror_mode": {
    "name": "ipython",
    "version": 3
   },
   "file_extension": ".py",
   "mimetype": "text/x-python",
   "name": "python",
   "nbconvert_exporter": "python",
   "pygments_lexer": "ipython3",
   "version": "3.7.10"
  },
  "papermill": {
   "default_parameters": {},
   "duration": 16.888079,
   "end_time": "2021-08-08T11:41:29.250916",
   "environment_variables": {},
   "exception": null,
   "input_path": "__notebook__.ipynb",
   "output_path": "__notebook__.ipynb",
   "parameters": {},
   "start_time": "2021-08-08T11:41:12.362837",
   "version": "2.3.3"
  }
 },
 "nbformat": 4,
 "nbformat_minor": 5
}
